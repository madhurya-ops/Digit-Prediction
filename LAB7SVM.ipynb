{
 "cells": [
  {
   "cell_type": "code",
   "execution_count": 3,
   "id": "6f831fa9-8751-4fd6-a4be-581037eb0ebb",
   "metadata": {},
   "outputs": [
    {
     "name": "stdout",
     "output_type": "stream",
     "text": [
      "Accuracy: 99.97%\n",
      "Confusion Matrix:\n",
      "[[1402    0]\n",
      " [   1 1553]]\n",
      "Classification Report:\n",
      "              precision    recall  f1-score   support\n",
      "\n",
      "           0       1.00      1.00      1.00      1402\n",
      "           1       1.00      1.00      1.00      1554\n",
      "\n",
      "    accuracy                           1.00      2956\n",
      "   macro avg       1.00      1.00      1.00      2956\n",
      "weighted avg       1.00      1.00      1.00      2956\n",
      "\n"
     ]
    }
   ],
   "source": [
    "import numpy as np\n",
    "import matplotlib.pyplot as plt\n",
    "from sklearn.datasets import fetch_openml\n",
    "from sklearn.model_selection import train_test_split\n",
    "from sklearn.preprocessing import StandardScaler\n",
    "from sklearn.metrics import accuracy_score, confusion_matrix, classification_report\n",
    "mnist = fetch_openml('mnist_784', version=1)\n",
    "X, y = mnist.data.astype(np.float32), mnist.target.astype(np.int32)\n",
    "\n",
    "X /= 255.0\n",
    "binary_filter = (y == 0) | (y == 1)\n",
    "X, y = X[binary_filter], y[binary_filter]\n",
    "\n",
    "X_train, X_test, y_train, y_test = train_test_split(X, y, test_size=0.2, random_state=42)\n",
    "\n",
    "scaler = StandardScaler()\n",
    "X_train = scaler.fit_transform(X_train)\n",
    "X_test = scaler.transform(X_test)\n",
    "\n",
    "class SVM:\n",
    "    def __init__(self, learning_rate=0.001, lambda_param=0.01, epochs=1000):\n",
    "        self.lr = learning_rate\n",
    "        self.lambda_param = lambda_param\n",
    "        self.epochs = epochs\n",
    "        self.weights = None\n",
    "        self.bias = None\n",
    "    \n",
    "    def fit(self, X, y):\n",
    "        n_samples, n_features = X.shape\n",
    "        y_ = np.where(y == 1, 1, -1)  \n",
    "        \n",
    "        self.weights = np.zeros(n_features)\n",
    "        self.bias = 0\n",
    "        \n",
    "        for _ in range(self.epochs):\n",
    "            for idx, x_i in enumerate(X):\n",
    "                condition = y_[idx] * (np.dot(x_i, self.weights) - self.bias) >= 1\n",
    "                if condition:\n",
    "                    self.weights -= self.lr * (2 * self.lambda_param * self.weights)\n",
    "                else:\n",
    "                    self.weights -= self.lr * (2 * self.lambda_param * self.weights - np.dot(x_i, y_[idx]))\n",
    "                    self.bias -= self.lr * y_[idx]\n",
    "    \n",
    "    def predict(self, X):\n",
    "        linear_output = np.dot(X, self.weights) - self.bias\n",
    "        return np.sign(linear_output)\n",
    "\n",
    "svm = SVM(learning_rate=0.001, lambda_param=0.01, epochs=1000)\n",
    "svm.fit(X_train, y_train)\n",
    "\n",
    "y_pred = svm.predict(X_test)\n",
    "\n",
    "y_pred = np.where(y_pred == -1, 0, 1)\n",
    "\n",
    "accuracy = accuracy_score(y_test, y_pred)\n",
    "conf_matrix = confusion_matrix(y_test, y_pred)\n",
    "class_report = classification_report(y_test, y_pred)\n",
    "\n",
    "print(f\"Accuracy: {accuracy * 100:.2f}%\")\n",
    "print(\"Confusion Matrix:\")\n",
    "print(conf_matrix)\n",
    "print(\"Classification Report:\")\n",
    "print(class_report)\n"
   ]
  },
  {
   "cell_type": "code",
   "execution_count": 5,
   "id": "353af5d7-7234-4bb0-8eb7-276df9128486",
   "metadata": {},
   "outputs": [
    {
     "data": {
      "text/plain": [
       "['svm_model.pkl']"
      ]
     },
     "execution_count": 5,
     "metadata": {},
     "output_type": "execute_result"
    }
   ],
   "source": [
    "import joblib\n",
    "\n",
    "\n",
    "joblib.dump({\"weights\": svm.weights, \"bias\": svm.bias, \"scaler\": scaler}, \"svm_model.pkl\")\n"
   ]
  },
  {
   "cell_type": "code",
   "execution_count": 6,
   "id": "e50c4f8c-6264-4ee5-af8a-f9ecb1b7b8b7",
   "metadata": {},
   "outputs": [],
   "source": [
    "model_data = joblib.load(\"svm_model.pkl\")\n",
    "svm.weights = model_data[\"weights\"]\n",
    "svm.bias = model_data[\"bias\"]\n",
    "scaler = model_data[\"scaler\"]\n"
   ]
  },
  {
   "cell_type": "code",
   "execution_count": null,
   "id": "1b7d8d46-948d-4b37-b6a1-0785feba5f1e",
   "metadata": {},
   "outputs": [],
   "source": []
  }
 ],
 "metadata": {
  "kernelspec": {
   "display_name": "Python 3 (ipykernel)",
   "language": "python",
   "name": "python3"
  },
  "language_info": {
   "codemirror_mode": {
    "name": "ipython",
    "version": 3
   },
   "file_extension": ".py",
   "mimetype": "text/x-python",
   "name": "python",
   "nbconvert_exporter": "python",
   "pygments_lexer": "ipython3",
   "version": "3.12.7"
  }
 },
 "nbformat": 4,
 "nbformat_minor": 5
}
